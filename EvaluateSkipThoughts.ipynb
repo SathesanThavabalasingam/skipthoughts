{
 "cells": [
  {
   "cell_type": "code",
   "execution_count": 1,
   "metadata": {},
   "outputs": [
    {
     "name": "stdout",
     "output_type": "stream",
     "text": [
      "Loading model parameters...\n",
      "Compiling encoders...\n"
     ]
    },
    {
     "name": "stderr",
     "output_type": "stream",
     "text": [
      "/anaconda3/envs/py2/lib/python2.7/site-packages/theano/scan_module/scan_perform_ext.py:76: UserWarning: The file scan_perform.c is not available. This donot happen normally. You are probably in a strangesetup. This mean Theano can not use the cython code for scan. If youwant to remove this warning, use the Theano flag'cxx=' (set to an empty string) to disable all ccode generation.\n",
      "  \"The file scan_perform.c is not available. This do\"\n",
      "/anaconda3/envs/py2/lib/python2.7/site-packages/theano/scan_module/scan_perform_ext.py:76: UserWarning: The file scan_perform.c is not available. This donot happen normally. You are probably in a strangesetup. This mean Theano can not use the cython code for scan. If youwant to remove this warning, use the Theano flag'cxx=' (set to an empty string) to disable all ccode generation.\n",
      "  \"The file scan_perform.c is not available. This do\"\n",
      "/anaconda3/envs/py2/lib/python2.7/site-packages/theano/scan_module/scan_perform_ext.py:76: UserWarning: The file scan_perform.c is not available. This donot happen normally. You are probably in a strangesetup. This mean Theano can not use the cython code for scan. If youwant to remove this warning, use the Theano flag'cxx=' (set to an empty string) to disable all ccode generation.\n",
      "  \"The file scan_perform.c is not available. This do\"\n"
     ]
    },
    {
     "name": "stdout",
     "output_type": "stream",
     "text": [
      "Loading tables...\n",
      "Packing up...\n"
     ]
    }
   ],
   "source": [
    "from skip_thoughts import skipthoughts\n",
    "model = skipthoughts.load_model()\n",
    "encoder = skipthoughts.Encoder(model)"
   ]
  },
  {
   "cell_type": "markdown",
   "metadata": {},
   "source": [
    "# Evaluate Semantic-Relatedness\n",
    "\n",
    "Download the SemEval 2014 Task 1 (SICK) dataset from http://alt.qcri.org/semeval2014/task1/index.php?id=data-and-tools (training data, trial data and test data with annotations) and put these into the data directory. Then run the following:\n",
    "\n",
    "import eval_sick\n",
    "eval_sick.evaluate(encoder, evaltest=True)\n",
    "This will train a model using the trial dataset to early stop on Pearson correlation. After stopping, it will evaluate the result on the test set. It should output the following results:\n",
    "\n",
    "Test Pearson: 0.858463714763\n",
    "Test Spearman: 0.791613731617\n",
    "Test MSE: 0.26871638445\n",
    "For this experiment, you will need to have Keras installed in order for it to work."
   ]
  },
  {
   "cell_type": "code",
   "execution_count": null,
   "metadata": {},
   "outputs": [],
   "source": [
    "from skip_thoughts import eval_sick\n",
    "eval_sick.evaluate(encoder, evaltest=True) \n"
   ]
  },
  {
   "cell_type": "markdown",
   "metadata": {},
   "source": [
    "# Evaluate Paraphrase Detection\n",
    "\n",
    "Download the Microsoft Research Paraphrase Corpus and put it in the data directory. There should be two files, msr_paraphrase_train.txt and msr_paraphrase_test.txt. To obtain the test set result using the best chosen hyperparameter from CV, run the following:\n",
    "\n",
    "import eval_msrp\n",
    "eval_msrp.evaluate(encoder, evalcv=False, evaltest=True, use_feats=True)\n",
    "This will evaluate on the test set using the best chosen hyperparamter from CV. I get the following results:\n",
    "\n",
    "Test accuracy: 0.75768115942\n",
    "Test F1: 0.829526916803\n",
    "Alternatively, turning on evalcv will perform 10-fold CV on the training set, and should output the same result after."
   ]
  },
  {
   "cell_type": "code",
   "execution_count": 2,
   "metadata": {},
   "outputs": [
    {
     "name": "stdout",
     "output_type": "stream",
     "text": [
      "Preparing data...\n",
      "Computing training skipthoughts...\n",
      "Running cross-validation...\n"
     ]
    },
    {
     "name": "stderr",
     "output_type": "stream",
     "text": [
      "/anaconda3/envs/py2/lib/python2.7/site-packages/sklearn/linear_model/logistic.py:433: FutureWarning: Default solver will be changed to 'lbfgs' in 0.22. Specify a solver to silence this warning.\n",
      "  FutureWarning)\n"
     ]
    },
    {
     "name": "stdout",
     "output_type": "stream",
     "text": [
      "(1, 0.8379705400981997)\n",
      "(1, 0.8258706467661692)\n",
      "(1, 0.8213058419243987)\n",
      "(1, 0.7986348122866894)\n",
      "(1, 0.8295081967213116)\n",
      "(1, 0.8488745980707394)\n",
      "(1, 0.8124999999999999)\n",
      "(1, 0.8076256499133447)\n",
      "(1, 0.8249158249158248)\n",
      "(1, 0.8073701842546064)\n",
      "[0.8214576294951283]\n",
      "(2, 0.8393442622950819)\n",
      "(2, 0.8207705192629816)\n",
      "(2, 0.8269896193771625)\n",
      "(2, 0.7945205479452055)\n",
      "(2, 0.834983498349835)\n",
      "(2, 0.8516129032258065)\n",
      "(2, 0.8258706467661692)\n",
      "(2, 0.8055555555555556)\n",
      "(2, 0.829103214890017)\n",
      "(2, 0.8047138047138046)\n",
      "[0.8214576294951283, 0.8233464572381619]\n",
      "(4, 0.8401976935749588)\n",
      "(4, 0.8203389830508475)\n",
      "(4, 0.8290155440414508)\n",
      "(4, 0.7986348122866894)\n",
      "(4, 0.8447412353923206)\n",
      "(4, 0.8562091503267975)\n",
      "(4, 0.823529411764706)\n",
      "(4, 0.8127208480565371)\n",
      "(4, 0.8281786941580755)\n",
      "(4, 0.7972270363951472)\n",
      "[0.8214576294951283, 0.8233464572381619, 0.825079340904753]\n",
      "(8, 0.8419301164725458)\n",
      "(8, 0.8149405772495756)\n",
      "(8, 0.8237347294938918)\n",
      "(8, 0.8034188034188035)\n",
      "(8, 0.8431703204047218)\n",
      "(8, 0.8528925619834711)\n",
      "(8, 0.8241206030150754)\n",
      "(8, 0.8121645796064402)\n",
      "(8, 0.8330464716006885)\n",
      "(8, 0.804920913884007)\n",
      "[0.8214576294951283, 0.8233464572381619, 0.825079340904753, 0.825433967712922]\n",
      "(16, 0.8436974789915966)\n",
      "(16, 0.8068376068376069)\n",
      "(16, 0.8106194690265486)\n",
      "(16, 0.8061749571183534)\n",
      "(16, 0.83704974271012)\n",
      "(16, 0.8532883642495784)\n",
      "(16, 0.8280467445742905)\n",
      "(16, 0.787769784172662)\n",
      "(16, 0.8278260869565218)\n",
      "(16, 0.8099467140319715)\n",
      "[0.8214576294951283, 0.8233464572381619, 0.825079340904753, 0.825433967712922, 0.821125694866925]\n",
      "(32, 0.838160136286201)\n",
      "(32, 0.7938144329896908)\n",
      "(32, 0.787878787878788)\n",
      "(32, 0.7902097902097902)\n",
      "(32, 0.8310344827586207)\n",
      "(32, 0.8421052631578946)\n",
      "(32, 0.8221476510067115)\n",
      "(32, 0.7853211009174312)\n",
      "(32, 0.8295254833040422)\n",
      "(32, 0.7992766726943941)\n",
      "[0.8214576294951283, 0.8233464572381619, 0.825079340904753, 0.825433967712922, 0.821125694866925, 0.8119473801203563]\n",
      "(64, 0.8307692307692307)\n",
      "(64, 0.7810858143607706)\n",
      "(64, 0.7771836007130125)\n",
      "(64, 0.7865961199294532)\n",
      "(64, 0.8173913043478261)\n",
      "(64, 0.8401360544217686)\n",
      "(64, 0.8243243243243243)\n",
      "(64, 0.7882136279926335)\n",
      "(64, 0.8270944741532976)\n",
      "(64, 0.7854545454545454)\n",
      "[0.8214576294951283, 0.8233464572381619, 0.825079340904753, 0.825433967712922, 0.821125694866925, 0.8119473801203563, 0.8058249096466863]\n",
      "(128, 0.8144329896907218)\n",
      "(128, 0.7651245551601424)\n",
      "(128, 0.7793594306049823)\n",
      "(128, 0.7758007117437723)\n",
      "(128, 0.8063380281690141)\n",
      "(128, 0.841025641025641)\n",
      "(128, 0.82793867120954)\n",
      "(128, 0.7829313543599258)\n",
      "(128, 0.8165467625899282)\n",
      "(128, 0.7818181818181819)\n",
      "[0.8214576294951283, 0.8233464572381619, 0.825079340904753, 0.825433967712922, 0.821125694866925, 0.8119473801203563, 0.8058249096466863, 0.799131632637185]\n",
      "(256, 0.8048359240069085)\n",
      "(256, 0.7651245551601424)\n",
      "(256, 0.7714285714285715)\n",
      "(256, 0.7642857142857142)\n",
      "(256, 0.7921847246891651)\n",
      "(256, 0.8399311531841651)\n",
      "(256, 0.8205128205128205)\n",
      "(256, 0.7763401109057302)\n",
      "(256, 0.8108108108108107)\n",
      "(256, 0.7737226277372262)\n",
      "[0.8214576294951283, 0.8233464572381619, 0.825079340904753, 0.825433967712922, 0.821125694866925, 0.8119473801203563, 0.8058249096466863, 0.799131632637185, 0.7919177012721254]\n",
      "[0.8214576294951283, 0.8233464572381619, 0.825079340904753, 0.825433967712922, 0.821125694866925, 0.8119473801203563, 0.8058249096466863, 0.799131632637185, 0.7919177012721254]\n",
      "8\n",
      "Computing testing skipthoughts...\n",
      "Evaluating...\n",
      "Test accuracy: 0.7478260869565218\n",
      "Test F1: 0.8212083847102343\n"
     ]
    },
    {
     "ename": "NameError",
     "evalue": "name 'eval_msrp_result' is not defined",
     "output_type": "error",
     "traceback": [
      "\u001b[0;31m---------------------------------------------------------------------------\u001b[0m",
      "\u001b[0;31mNameError\u001b[0m                                 Traceback (most recent call last)",
      "\u001b[0;32m<ipython-input-2-691bf4d3ef0f>\u001b[0m in \u001b[0;36m<module>\u001b[0;34m()\u001b[0m\n\u001b[1;32m      1\u001b[0m \u001b[0;32mfrom\u001b[0m \u001b[0mskip_thoughts\u001b[0m \u001b[0;32mimport\u001b[0m \u001b[0meval_msrp\u001b[0m\u001b[0;34m\u001b[0m\u001b[0m\n\u001b[0;32m----> 2\u001b[0;31m \u001b[0meval_msrp\u001b[0m\u001b[0;34m.\u001b[0m\u001b[0mevaluate\u001b[0m\u001b[0;34m(\u001b[0m\u001b[0mencoder\u001b[0m\u001b[0;34m,\u001b[0m \u001b[0mevalcv\u001b[0m\u001b[0;34m=\u001b[0m\u001b[0mTrue\u001b[0m\u001b[0;34m,\u001b[0m \u001b[0mevaltest\u001b[0m\u001b[0;34m=\u001b[0m\u001b[0mTrue\u001b[0m\u001b[0;34m,\u001b[0m \u001b[0muse_feats\u001b[0m\u001b[0;34m=\u001b[0m\u001b[0mTrue\u001b[0m\u001b[0;34m)\u001b[0m \u001b[0;34m>>\u001b[0m \u001b[0meval_msrp_result\u001b[0m\u001b[0;34m.\u001b[0m\u001b[0mtxt\u001b[0m\u001b[0;34m\u001b[0m\u001b[0m\n\u001b[0m",
      "\u001b[0;31mNameError\u001b[0m: name 'eval_msrp_result' is not defined"
     ]
    }
   ],
   "source": [
    "from skip_thoughts import eval_msrp\n",
    "eval_msrp.evaluate(encoder, evalcv=True, evaltest=True, use_feats=True) "
   ]
  }
 ],
 "metadata": {
  "kernelspec": {
   "display_name": "Python 3",
   "language": "python",
   "name": "python3"
  },
  "language_info": {
   "codemirror_mode": {
    "name": "ipython",
    "version": 3
   },
   "file_extension": ".py",
   "mimetype": "text/x-python",
   "name": "python",
   "nbconvert_exporter": "python",
   "pygments_lexer": "ipython3",
   "version": "3.6.5"
  }
 },
 "nbformat": 4,
 "nbformat_minor": 2
}
