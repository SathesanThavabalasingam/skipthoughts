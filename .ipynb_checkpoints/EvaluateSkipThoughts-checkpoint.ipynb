{
 "cells": [
  {
   "cell_type": "code",
   "execution_count": null,
   "metadata": {},
   "outputs": [],
   "source": [
    "from skip_thoughts import skipthoughts\n",
    "model = skipthoughts.load_model()\n",
    "encoder = skipthoughts.Encoder(model)"
   ]
  },
  {
   "cell_type": "markdown",
   "metadata": {},
   "source": [
    "# Evaluate Semantic-Relatedness\n",
    "\n",
    "Download the SemEval 2014 Task 1 (SICK) dataset from http://alt.qcri.org/semeval2014/task1/index.php?id=data-and-tools (training data, trial data and test data with annotations) and put these into the data directory. Then run the following:\n",
    "\n",
    "import eval_sick\n",
    "eval_sick.evaluate(encoder, evaltest=True)\n",
    "This will train a model using the trial dataset to early stop on Pearson correlation. After stopping, it will evaluate the result on the test set. It should output the following results:\n",
    "\n",
    "Test Pearson: 0.858463714763\n",
    "Test Spearman: 0.791613731617\n",
    "Test MSE: 0.26871638445\n",
    "For this experiment, you will need to have Keras installed in order for it to work."
   ]
  },
  {
   "cell_type": "code",
   "execution_count": null,
   "metadata": {},
   "outputs": [],
   "source": [
    "from skip_thoughts import eval_sick\n",
    "eval_sick.evaluate(encoder, evaltest=True) \n"
   ]
  },
  {
   "cell_type": "markdown",
   "metadata": {},
   "source": [
    "# Evaluate Paraphrase Detection\n",
    "\n",
    "Download the Microsoft Research Paraphrase Corpus and put it in the data directory. There should be two files, msr_paraphrase_train.txt and msr_paraphrase_test.txt. To obtain the test set result using the best chosen hyperparameter from CV, run the following:\n",
    "\n",
    "import eval_msrp\n",
    "eval_msrp.evaluate(encoder, evalcv=False, evaltest=True, use_feats=True)\n",
    "This will evaluate on the test set using the best chosen hyperparamter from CV. I get the following results:\n",
    "\n",
    "Test accuracy: 0.75768115942\n",
    "Test F1: 0.829526916803\n",
    "Alternatively, turning on evalcv will perform 10-fold CV on the training set, and should output the same result after."
   ]
  },
  {
   "cell_type": "code",
   "execution_count": null,
   "metadata": {},
   "outputs": [],
   "source": [
    "from skip_thoughts import eval_msrp\n",
    "eval_msrp.evaluate(encoder, evalcv=True, evaltest=True, use_feats=True) "
   ]
  }
 ],
 "metadata": {
  "kernelspec": {
   "display_name": "Python 3",
   "language": "python",
   "name": "python3"
  },
  "language_info": {
   "codemirror_mode": {
    "name": "ipython",
    "version": 3
   },
   "file_extension": ".py",
   "mimetype": "text/x-python",
   "name": "python",
   "nbconvert_exporter": "python",
   "pygments_lexer": "ipython3",
   "version": "3.6.5"
  }
 },
 "nbformat": 4,
 "nbformat_minor": 2
}
